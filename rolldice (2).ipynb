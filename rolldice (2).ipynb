{
 "cells": [
  {
   "cell_type": "code",
   "execution_count": 1,
   "id": "2159907d",
   "metadata": {},
   "outputs": [],
   "source": [
    "import random\n",
    "from tkinter import *\n",
    "import tkinter\n",
    "from PIL import Image, ImageTk\n",
    "from datetime import datetime\n",
    "import tkinter.font\n",
    "\n",
    "random.seed(datetime.now().timestamp())\n",
    "# https://stackoverflow.com/questions/27276135/python-random-system-time-seed"
   ]
  },
  {
   "cell_type": "code",
   "execution_count": 2,
   "id": "a911db10",
   "metadata": {},
   "outputs": [],
   "source": [
    "class MyWindow:\n",
    "    def __init__(self, win):\n",
    "        self.win= win\n",
    "        \n",
    "        title=Label(win, text='까꿍이의 주사위 던지기',font= tkinter.font.Font(family=\"Nanum BuJangNimNunCiCe\", size=60), background='pink')\n",
    "        title.place(relx=0.5, rely=0.1, anchor=CENTER)\n",
    "        # center: https://stackoverflow.com/questions/31128780/tkinter-how-to-make-a-button-center-itself\n",
    "        \n",
    "        roll_btn=Button(win, text='Roll Dice', font= tkinter.font.Font(family=\"Algerian\",size =16), command=self.roll)\n",
    "        roll_btn.place(relx=0.5, rely=0.85, anchor=CENTER)\n",
    "        \n",
    "        exit_btn = Button(win, text=\"Exit\", font= tkinter.font.Font(family=\"Algerian\",size = 16), command=win.destroy)\n",
    "        exit_btn.place(relx=0.5, rely=0.95, anchor=CENTER)\n",
    "        img = PhotoImage(file='doll.png').subsample(6)\n",
    "        # img: https://m.blog.naver.com/gaussian37/221057243324\n",
    "        # resize: https://stackoverflow.com/questions/6582387/image-resize-under-photoimage\n",
    "        lbl = Label(win, image=img)\n",
    "        lbl.image = img\n",
    "        lbl.place(relx=0.5, rely=0.5, anchor=CENTER)\n",
    "        \n",
    "    def roll(self):\n",
    "        result=random.randint(1,6)\n",
    "        file_name = str(result)+'.png'\n",
    "        img = PhotoImage(file=file_name).subsample(7)\n",
    "        lbl = Label(self.win, image=img)\n",
    "        lbl.image = img\n",
    "        lbl.place(relx=0.2, rely=0.67, anchor=CENTER)\n",
    "\n",
    "window=Tk()\n",
    "window.configure(background='white')\n",
    "mywin=MyWindow(window)\n",
    "window.title('Dice Roller')\n",
    "window.geometry(\"700x750\")\n",
    "window.mainloop()"
   ]
  }
 ],
 "metadata": {
  "kernelspec": {
   "display_name": "Python 3 (ipykernel)",
   "language": "python",
   "name": "python3"
  },
  "language_info": {
   "codemirror_mode": {
    "name": "ipython",
    "version": 3
   },
   "file_extension": ".py",
   "mimetype": "text/x-python",
   "name": "python",
   "nbconvert_exporter": "python",
   "pygments_lexer": "ipython3",
   "version": "3.9.7"
  }
 },
 "nbformat": 4,
 "nbformat_minor": 5
}
